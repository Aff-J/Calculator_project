{
  "nbformat": 4,
  "nbformat_minor": 0,
  "metadata": {
    "colab": {
      "provenance": [],
      "authorship_tag": "ABX9TyNLjkFXdpdDf3AUaOxfMvKC"
    },
    "kernelspec": {
      "name": "python3",
      "display_name": "Python 3"
    },
    "language_info": {
      "name": "python"
    }
  },
  "cells": [
    {
      "cell_type": "markdown",
      "metadata": {
        "id": "Pj7J6sL8Xhpf"
      },
      "source": [
        "# **Création d'une grille format + nb hasard**"
      ]
    },
    {
      "cell_type": "markdown",
      "metadata": {
        "id": "jnJxU_joWuPL"
      },
      "source": [
        "Création d'une liste de 9 chiffres au hasard"
      ]
    },
    {
      "cell_type": "code",
      "metadata": {
        "id": "qOFyYtWGuz4z",
        "colab": {
          "base_uri": "https://localhost:8080/"
        },
        "outputId": "f5de99fc-ecfc-4f4e-a1a7-2ecbc4cdb166"
      },
      "source": [
        "import random\n",
        "\n",
        "l2=[]\n",
        "for  i in range(9):\n",
        "  i=random.randrange(1,9)\n",
        "  l2.append(i)\n",
        "\n",
        "print(l2)"
      ],
      "execution_count": null,
      "outputs": [
        {
          "output_type": "stream",
          "name": "stdout",
          "text": [
            "[5, 8, 4, 3, 1, 5, 6, 2, 5]\n"
          ]
        }
      ]
    },
    {
      "cell_type": "markdown",
      "metadata": {
        "id": "gWT5KLeY0ok9"
      },
      "source": [
        "9 fois une liste avec 9 nb\n"
      ]
    },
    {
      "cell_type": "code",
      "metadata": {
        "id": "V_YydztBzAO5",
        "colab": {
          "base_uri": "https://localhost:8080/"
        },
        "outputId": "644828e2-ca8e-418b-a65d-0cdff92be630"
      },
      "source": [
        "for l in range(9):\n",
        "  l=[]\n",
        "  for nb in range(9):\n",
        "    nb=random.randrange(1,9)\n",
        "    l.append(nb)\n",
        "  print(l)\n"
      ],
      "execution_count": null,
      "outputs": [
        {
          "output_type": "stream",
          "name": "stdout",
          "text": [
            "[3, 6, 3, 7, 5, 4, 5, 6, 2]\n",
            "[5, 7, 3, 6, 2, 1, 8, 2, 4]\n",
            "[6, 6, 2, 6, 1, 7, 4, 1, 2]\n",
            "[7, 5, 1, 4, 6, 6, 2, 5, 6]\n",
            "[7, 4, 2, 8, 7, 1, 7, 4, 3]\n",
            "[7, 4, 5, 6, 7, 6, 2, 3, 1]\n",
            "[2, 6, 7, 4, 1, 5, 1, 3, 3]\n",
            "[7, 8, 5, 7, 2, 1, 3, 1, 5]\n",
            "[8, 1, 6, 7, 7, 5, 7, 8, 1]\n"
          ]
        }
      ]
    },
    {
      "cell_type": "markdown",
      "metadata": {
        "id": "Ly-gIv1cXC_j"
      },
      "source": [
        "Test dictionnaires (affichage)"
      ]
    },
    {
      "cell_type": "code",
      "metadata": {
        "id": "V2T9Wb29K_WL",
        "colab": {
          "base_uri": "https://localhost:8080/"
        },
        "outputId": "f03028d5-7bd0-407f-af6b-707482309cf0"
      },
      "source": [
        "lines={\n",
        "    'l1' : [9, 3, 1, 2, 7, 8, 7 ,6, 7]\n",
        "    \n",
        "}\n",
        "print(lines)\n",
        "print(lines.keys())\n"
      ],
      "execution_count": null,
      "outputs": [
        {
          "output_type": "stream",
          "name": "stdout",
          "text": [
            "{'l1': [9, 3, 1, 2, 7, 8, 7, 6, 7]}\n",
            "dict_keys(['l1'])\n"
          ]
        }
      ]
    },
    {
      "cell_type": "markdown",
      "metadata": {
        "id": "ve3Sl4dwXOsE"
      },
      "source": [
        "Dictionnaire avec 9 liste de 9 nb en elem\n"
      ]
    },
    {
      "cell_type": "code",
      "metadata": {
        "id": "VRXiXDaqKqZ2",
        "colab": {
          "base_uri": "https://localhost:8080/"
        },
        "outputId": "80ee5cbb-80d0-4a58-c70a-7c145246f3e6"
      },
      "source": [
        "l= dict()\n",
        "\n",
        "for x in range(1,9):\n",
        "  l[\"l%s\"% str(x)]= [] #création de 9 listes appelées l1, l2 etc...\n",
        "\n",
        "  for nb in range(9):\n",
        "    nb=random.randrange(1,9) #génération d'un entier au hasard \n",
        "    l[\"l%s\"% str(x)].append(nb) #ajout de cet entier à la liste \n",
        "\n",
        "for values in l.items():\n",
        "    print(values)\n",
        "\n",
        "    \n",
        "\n"
      ],
      "execution_count": null,
      "outputs": [
        {
          "output_type": "stream",
          "name": "stdout",
          "text": [
            "('l1', [1, 6, 6, 3, 4, 5, 8, 5, 4])\n",
            "('l2', [5, 5, 5, 7, 8, 1, 8, 4, 6])\n",
            "('l3', [5, 4, 1, 8, 3, 1, 4, 4, 6])\n",
            "('l4', [3, 4, 7, 2, 4, 5, 6, 7, 1])\n",
            "('l5', [6, 7, 4, 8, 5, 6, 8, 8, 1])\n",
            "('l6', [5, 7, 2, 5, 7, 1, 2, 2, 6])\n",
            "('l7', [5, 1, 3, 8, 3, 1, 5, 5, 5])\n",
            "('l8', [7, 3, 7, 5, 7, 4, 5, 8, 1])\n"
          ]
        }
      ]
    },
    {
      "cell_type": "code",
      "metadata": {
        "id": "bjBIpGUxX3Mc",
        "colab": {
          "base_uri": "https://localhost:8080/"
        },
        "outputId": "555d3ad5-2b35-45cd-b369-de9cce62dc2c"
      },
      "source": [
        "#print un index d'un index  du dico (1 chiffre a position ds liste)\n",
        "for keys, values in l.items(): \n",
        "  print(values[0]) #on affiche tous les chiffres en position 0 ds les listes\n"
      ],
      "execution_count": null,
      "outputs": [
        {
          "output_type": "stream",
          "name": "stdout",
          "text": [
            "1\n",
            "5\n",
            "5\n",
            "3\n",
            "6\n",
            "5\n",
            "5\n",
            "7\n"
          ]
        }
      ]
    },
    {
      "cell_type": "code",
      "metadata": {
        "id": "dLW7vhE9c55x",
        "colab": {
          "base_uri": "https://localhost:8080/"
        },
        "outputId": "9ade3741-4090-4d8e-9959-0d4267d303ce"
      },
      "source": [
        "#sur chaque lignes ts les chiffres de 1 à 9 apparaîssent ds sens aléatoire et\n",
        "#a chaque nvx position on refuse les chiffres déjà présent sur la liste (ligne)\n",
        "\n",
        "import random\n",
        "l= dict()\n",
        "\n",
        "for x in range(1,9):\n",
        "  l[\"l%s\"% str(x)]= [] #création de 9 listes appelées l1, l2 etc...\n",
        "\n",
        "  for nb in range(9):\n",
        "    nb=random.randrange(1,9) #génération d'un entier au hasard \n",
        "    z = [1,2,3,4,5,6,7,8,9]\n",
        "    if z == nb:\n",
        "\n",
        "      nb=random.randrange(1,9) #créer une boucle qui consitue une liste de \n",
        "      #chiffres qui ne soient ni 1/ ds la ligne (liste) 2/ ds colonne (index)\n",
        "    l[\"l%s\"% str(x)].append(nb) #ajout de cet entier à la liste \n",
        "\n",
        "for values in l.items():\n",
        "    print(values)\n"
      ],
      "execution_count": null,
      "outputs": [
        {
          "output_type": "stream",
          "name": "stdout",
          "text": [
            "('l1', [8, 2, 8, 3, 6, 5, 5, 8, 6])\n",
            "('l2', [2, 7, 8, 4, 2, 2, 4, 4, 7])\n",
            "('l3', [3, 3, 8, 3, 4, 4, 2, 7, 1])\n",
            "('l4', [5, 3, 5, 2, 6, 4, 3, 4, 3])\n",
            "('l5', [4, 3, 1, 4, 7, 7, 7, 2, 3])\n",
            "('l6', [6, 7, 2, 4, 1, 5, 2, 1, 3])\n",
            "('l7', [6, 4, 7, 4, 3, 2, 8, 4, 3])\n",
            "('l8', [1, 8, 7, 8, 5, 1, 8, 1, 5])\n"
          ]
        }
      ]
    },
    {
      "cell_type": "code",
      "metadata": {
        "id": "aGvrngdCcTu7"
      },
      "source": [
        "#la ligne suivante commence : on regarde pour cette position (0) les chiffres \n",
        "#qui sont diff de celui de la ligne 0 à la mm position -> créa d'une petite liste\n",
        "#ou créa d'un TRUE (ts les chiffres pr lesquels true )\n",
        "\n",
        "#et choix aléatoire parmis ces chiffres différent "
      ],
      "execution_count": null,
      "outputs": []
    },
    {
      "cell_type": "code",
      "metadata": {
        "id": "Qqx8M1JecbqG"
      },
      "source": [
        "#pour le deuxième chiffre -> différent du premier( cad différent des chiffres de\n",
        "#la liste en création actuelle), puis mm opération avec liste du dessus\n"
      ],
      "execution_count": null,
      "outputs": []
    },
    {
      "cell_type": "markdown",
      "metadata": {
        "id": "GA4caGpg78wd"
      },
      "source": [
        "Faire une liste avec chiffres sur la colonne puis comparer chiffre random trouvé à ces vals"
      ]
    },
    {
      "cell_type": "code",
      "metadata": {
        "id": "0VU9rOuuE-iU",
        "colab": {
          "base_uri": "https://localhost:8080/"
        },
        "outputId": "8887ed13-6bfa-4f49-a314-7879390a0541"
      },
      "source": [
        "#création d'une liste pour le random\n",
        "z=[1,2,3,4,5,6,7,8,9]\n",
        "l=[2,4,6,9]\n",
        "\n",
        "for n in z:\n",
        "  for i in l:\n",
        "    if(i==n):\n",
        "      z.remove(n)\n",
        "      break\n",
        "print(z)"
      ],
      "execution_count": null,
      "outputs": [
        {
          "output_type": "stream",
          "name": "stdout",
          "text": [
            "[1, 3, 5, 7, 8]\n"
          ]
        }
      ]
    },
    {
      "cell_type": "code",
      "metadata": {
        "colab": {
          "base_uri": "https://localhost:8080/"
        },
        "id": "RS_5vQkPnbRf",
        "outputId": "2bd14b5a-6597-436f-a782-389152796140"
      },
      "source": [
        "import random\n",
        "l= dict()\n",
        "\n",
        "\n",
        "for x in range(1,10):\n",
        "  l[\"l%s\"% str(x)]= [] #création de 9 listes appelées l1, l2 etc...\n",
        "\n",
        "  for nb in range(9):\n",
        "    z=[1,2,3,4,5,6,7,8,9]\n",
        "    for n in z:\n",
        "      for i in l:\n",
        "        if(values==n):\n",
        "          z.remove(n)\n",
        "          break\n",
        "    nb=random.choice(z) #génération d'un entier au hasard ds liste \n",
        "    l[\"l%s\"% str(x)].append(nb) #ajout de cet entier à la liste \n",
        "\n",
        "for values in l.items():\n",
        "    print(values)"
      ],
      "execution_count": null,
      "outputs": [
        {
          "output_type": "stream",
          "name": "stdout",
          "text": [
            "('l1', [9, 3, 8, 4, 4, 1, 1, 5, 6])\n",
            "('l2', [7, 8, 3, 2, 7, 9, 3, 5, 6])\n",
            "('l3', [5, 7, 9, 5, 7, 2, 3, 1, 7])\n",
            "('l4', [3, 7, 3, 4, 5, 4, 2, 3, 8])\n",
            "('l5', [1, 5, 2, 6, 7, 6, 9, 8, 5])\n",
            "('l6', [2, 8, 5, 7, 3, 2, 1, 4, 9])\n",
            "('l7', [4, 4, 5, 4, 2, 2, 9, 7, 3])\n",
            "('l8', [8, 8, 2, 3, 3, 5, 6, 8, 1])\n",
            "('l9', [8, 3, 7, 7, 1, 4, 3, 2, 4])\n"
          ]
        }
      ]
    },
    {
      "cell_type": "code",
      "metadata": {
        "colab": {
          "base_uri": "https://localhost:8080/"
        },
        "id": "YutXS2erEWVV",
        "outputId": "6b4e4a89-9832-48e6-e97e-d658bc29c9a7"
      },
      "source": [
        "z=[1,2,3,4,5,6,7,8,9]\n",
        "l=[1,3,5]\n",
        "\n",
        "for n in z:\n",
        "  if(n in l):\n",
        "    z.remove(n)\n",
        "\n",
        "print(z)"
      ],
      "execution_count": null,
      "outputs": [
        {
          "output_type": "stream",
          "name": "stdout",
          "text": [
            "[2, 4, 6, 7, 8, 9]\n"
          ]
        }
      ]
    },
    {
      "cell_type": "markdown",
      "metadata": {
        "id": "yadRAFOzM-L6"
      },
      "source": [
        "Liste chiffre unique"
      ]
    },
    {
      "cell_type": "code",
      "metadata": {
        "colab": {
          "base_uri": "https://localhost:8080/"
        },
        "id": "k2CQX6_R-rdx",
        "outputId": "7f24e706-4cae-4245-9efc-68fb2ff3ba9d"
      },
      "source": [
        "import random\n",
        "l= dict()\n",
        "\n",
        "\n",
        "for x in range(1,10):\n",
        "  l[\"l%s\"% str(x)]= [] #création de 9 listes appelées l1, l2 etc...\n",
        "  z=[1,2,3,4,5,6,7,8,9]\n",
        "  for nb in range(9):\n",
        "    for n in z:\n",
        "      if(n in l[\"l%s\"% str(x)]):\n",
        "        z.remove(n) #réduction liste z (contient que des chiffres absent liste)\n",
        "\n",
        "    nb=random.choice(z) #génération d'un entier au hasard ds liste \n",
        "    l[\"l%s\"% str(x)].append(nb) #ajout de cet entier à la liste \n",
        "\n",
        "for values in l.items():\n",
        "    print(values)\n",
        "\n",
        "    \n",
        "  "
      ],
      "execution_count": null,
      "outputs": [
        {
          "output_type": "stream",
          "name": "stdout",
          "text": [
            "('l1', [5, 8, 9, 1, 4, 3, 7, 2, 6])\n",
            "('l2', [3, 2, 4, 9, 5, 1, 6, 8, 7])\n",
            "('l3', [4, 7, 6, 1, 5, 9, 3, 2, 8])\n",
            "('l4', [2, 1, 9, 7, 4, 8, 5, 3, 6])\n",
            "('l5', [3, 1, 9, 2, 4, 7, 6, 8, 5])\n",
            "('l6', [6, 1, 3, 5, 8, 9, 4, 7, 2])\n",
            "('l7', [3, 6, 8, 1, 4, 5, 9, 7, 2])\n",
            "('l8', [7, 6, 3, 5, 8, 2, 9, 4, 1])\n",
            "('l9', [9, 6, 5, 3, 4, 1, 2, 8, 7])\n"
          ]
        }
      ]
    },
    {
      "cell_type": "markdown",
      "source": [
        "\n",
        "Liste colonnes :"
      ],
      "metadata": {
        "id": "UdjeGopZnbcA"
      }
    },
    {
      "cell_type": "code",
      "source": [
        "c=dict()\n",
        "\n",
        "for y in range(1,10):\n",
        "  c[\"c%s\"% str(y)]= []\n",
        "print(c)\n",
        "\n",
        "for d in range(9):\n",
        "  i=1\n",
        "  z=[1,2,3,4,5,6,7,8,9]\n",
        "  for n in z:\n",
        "    if(n in c['c' +str(i)]):\n",
        "        z.remove(n)\n",
        "  nb=random.choice(z) #génération d'un entier au hasard ds liste \n",
        "  c[\"c%s\"% str(i)].append(nb)\n",
        "  i+=1\n",
        "\n"
      ],
      "metadata": {
        "colab": {
          "base_uri": "https://localhost:8080/"
        },
        "id": "HMsIdibnn0QB",
        "outputId": "db86ce09-4058-4d76-cca2-c87d43a4d407"
      },
      "execution_count": null,
      "outputs": [
        {
          "output_type": "stream",
          "name": "stdout",
          "text": [
            "{'c1': [], 'c2': [], 'c3': [], 'c4': [], 'c5': [], 'c6': [], 'c7': [], 'c8': [], 'c9': []}\n"
          ]
        }
      ]
    },
    {
      "cell_type": "code",
      "source": [
        "import random\n",
        "\n",
        "l= dict() #un dict pour les lignes\n",
        "c= dict() #un dict pour les colonnes\n",
        "\n",
        "#Création d'une liste de chiffres autorisés pour les colonnes\n",
        "for y in range(1,10):\n",
        "  c[\"c%s\"% str(y)]= [1,2,3,4,5,6,7,8,9]\n",
        "\n",
        "#Création d'une liste par ligne (correspondant à l'ensemble des lignes du \n",
        "#sudoku)\n",
        "for x in range(1,10):\n",
        "  l[\"l%s\"% str(x)]= [] #création de 9 listes appelées l1, l2 etc...\n",
        "  \n",
        "  #Pour une ligne, création d'une liste z de chiffres autorisés (non utilisés \n",
        "  #sur la ligne)\n",
        "  z=[1,2,3,4,5,6,7,8,9] \n",
        "\n",
        "  #Pour chaque nombre de la ligne \n",
        "  for nb in range(9): \n",
        "    i=1 #incrémentation numero colonne (le premier element de la ligne 1 \n",
        "    #est le premier element de la liste colonne 1)\n",
        "\n",
        "    #Création d'une liste vide qui contiendra les nombres qui ne se trouvent ni \n",
        "    #dans la ligne en cours, ni dans la liste colonne concernée, soit les \n",
        "    #nombres autorisés pour un emplacement donné\n",
        "    com=[] \n",
        "\n",
        "    #On regarde \n",
        "    for n in z: #pour chaque nb de la liste alphabet z\n",
        "      if(n in l[\"l%s\"% str(x)]): #si le nb est déjà sur la ligne\n",
        "        z.remove(n) #on enleve ce nb de la liste\n",
        "\n",
        "    for e in c[\"c\" + str(i)]: #pour chaque nb d'une liste de colonne [1->9]\n",
        "      if(e in z): #si un nb se trouve dans la liste réduite z et dans c\n",
        "        com.append(e) #on l'ajoute dans la liste com\n",
        "        print(com)\n",
        "      \n",
        "    nb=random.choice(com)\n",
        "    \n",
        "    l[\"l%s\"% str(x)].append(nb) #ajout de cet entier à la liste\n",
        "\n",
        "    if(nb in c[\"c\" + str(i)]):\n",
        "      c[\"c\" + str(i)].remove(nb)\n",
        "    i+=1\n",
        "    \n",
        "\n",
        "for values in l.items():\n",
        "  print(values)\n"
      ],
      "metadata": {
        "id": "3oGlbFRFrkhA"
      },
      "execution_count": null,
      "outputs": []
    },
    {
      "cell_type": "markdown",
      "source": [
        "Tentative correction 22/04"
      ],
      "metadata": {
        "id": "1LDn70wrolcm"
      }
    },
    {
      "cell_type": "code",
      "source": [
        "import random\n",
        "\n",
        "l= dict() #un dict pour les lignes\n",
        "c= dict() #un dict pour les colonnes\n",
        "\n",
        "nb_autorise = [1,2,3,4,5,6,7,8,9]\n",
        "  \n",
        "for y in range(1,10):\n",
        "  c[\"c%s\"% str(y)]= []\n",
        "#Création d'une liste par ligne (correspondant à l'ensemble des lignes du \n",
        "#sudoku)\n",
        "for x in range(1,10):\n",
        "  l[\"l%s\"% str(x)]= [] #création de 9 listes appelées l1, l2 etc...\n",
        "  i=1 #incrémentation numero colonne (le premier element de la ligne 1 \n",
        "    #est le premier element de la liste colonne 1)\n",
        "\n",
        "  #initialisation des trois grilles en diagonale \n",
        "  #on rempli les 3 premier élement des lignes 4 à 6 de 0\n",
        "  if(x==4):\n",
        "    nb_autorise=[1,2,3,4,5,6,7,8,9]\n",
        "\n",
        "  elif(x==7):\n",
        "    nb_autorise=[1,2,3,4,5,6,7,8,9]\n",
        "\n",
        "  if x>3 and x<7:\n",
        "    for zero in range(3):\n",
        "      zero = 0\n",
        "      l[\"l%s\"% str(x)].append(zero)\n",
        "  elif x>6:\n",
        "    for zero in range(6):\n",
        "      zero=0\n",
        "      l[\"l%s\"% str(x)].append(zero)\n",
        "\n",
        "  for nb in range(3):\n",
        "    nb_interdit=[]\n",
        "\n",
        "    for elem in l[\"l%s\"% str(x)]:\n",
        "      nb_interdit.append(elem)\n",
        "       #on suppr de la liste obligatoire les chiffres \n",
        "        #déjà présent dans le cube\n",
        "  \n",
        "\n",
        "    #chiffres autorisés sont l'inverse des interdits : \n",
        "    for elem_nb_interdit in nb_interdit:\n",
        "      if(elem_nb_interdit in nb_autorise):\n",
        "        nb_autorise.remove(elem_nb_interdit)\n",
        "\n",
        "    nb=random.choice(nb_autorise)\n",
        "\n",
        "    nb_autorise.remove(nb)\n",
        "    c[\"c\" + str(i)].append(nb)\n",
        "    l[\"l%s\"% str(x)].append(nb) #ajout de cet entier à la liste qui représente \n",
        "    #les lignes du sudoku\n",
        "\n",
        "    i+=1 #incrémentation \n",
        "\n",
        "for values in l.items():\n",
        "  print(values)\n"
      ],
      "metadata": {
        "colab": {
          "base_uri": "https://localhost:8080/"
        },
        "id": "Xi2xNptuolAI",
        "outputId": "dcc77083-cd87-4b06-abc1-60aa7c9dd752"
      },
      "execution_count": null,
      "outputs": [
        {
          "output_type": "stream",
          "name": "stdout",
          "text": [
            "('l1', [7, 3, 1])\n",
            "('l2', [5, 6, 2])\n",
            "('l3', [9, 8, 4])\n",
            "('l4', [0, 0, 0, 2, 3, 7])\n",
            "('l5', [0, 0, 0, 1, 5, 4])\n",
            "('l6', [0, 0, 0, 6, 9, 8])\n",
            "('l7', [0, 0, 0, 0, 0, 0, 2, 8, 4])\n",
            "('l8', [0, 0, 0, 0, 0, 0, 3, 1, 7])\n",
            "('l9', [0, 0, 0, 0, 0, 0, 5, 6, 9])\n"
          ]
        }
      ]
    },
    {
      "cell_type": "markdown",
      "source": [
        "Suite après la diagonale"
      ],
      "metadata": {
        "id": "HPWkVz1KoUDj"
      }
    },
    {
      "cell_type": "code",
      "source": [
        "import random\n",
        "\n",
        "l= dict() #un dict pour les lignes\n",
        "c= dict() #un dict pour les colonnes\n",
        "\n",
        "nb_autorise = [1,2,3,4,5,6,7,8,9]\n",
        "  \n",
        "for y in range(1,10):\n",
        "  c[\"c%s\"% str(y)]= []\n",
        "#Création d'une liste par ligne (correspondant à l'ensemble des lignes du \n",
        "#sudoku)\n",
        "\n",
        "for x in range(1,10):\n",
        "  l[\"l%s\"% str(x)]= [] #création de 9 listes appelées l1, l2 etc...\n",
        "  i=1 #incrémentation numero colonne (le premier element de la ligne 1 \n",
        "    #est le premier element de la liste colonne 1)\n",
        "\n",
        "  #initialisation des trois grilles en diagonale \n",
        "  #on rempli les 3 premier élement des lignes 4 à 6 de 0\n",
        "  if(x==4):\n",
        "    nb_autorise=[1,2,3,4,5,6,7,8,9]\n",
        "\n",
        "  elif(x==7):\n",
        "    nb_autorise=[1,2,3,4,5,6,7,8,9]\n",
        "\n",
        "  if x>3 and x<7:\n",
        "    for zero in range(3):\n",
        "      zero = 0\n",
        "      l[\"l%s\"% str(x)].append(zero)\n",
        "    i=4\n",
        "  elif x>6:\n",
        "    for zero in range(6):\n",
        "      zero=0\n",
        "      l[\"l%s\"% str(x)].append(zero)\n",
        "      i=7\n",
        "\n",
        "  for nb in range(3):\n",
        "    nb_interdit=[]\n",
        "\n",
        "    for elem in l[\"l%s\"% str(x)]:\n",
        "      nb_interdit.append(elem)\n",
        "       #on suppr de la liste obligatoire les chiffres \n",
        "        #déjà présent dans le cube\n",
        "  \n",
        "\n",
        "    #chiffres autorisés sont l'inverse des interdits : \n",
        "    for elem_nb_interdit in nb_interdit:\n",
        "      if(elem_nb_interdit in nb_autorise):\n",
        "        nb_autorise.remove(elem_nb_interdit)\n",
        "\n",
        "    nb=random.choice(nb_autorise)\n",
        "\n",
        "    nb_autorise.remove(nb)\n",
        "    c[\"c\" + str(i)].append(nb)\n",
        "    l[\"l%s\"% str(x)].append(nb) #ajout de cet entier à la liste qui représente \n",
        "    #les lignes du sudoku\n",
        "\n",
        "    i+=1 #incrémentation \n",
        "\n",
        "\n",
        "for x in range(1,4): \n",
        "  i=4 #on commence à la 4e colonne\n",
        "\n",
        "  for elem_ligne in range(4,7): #pour les 3 prochains élements de la ligne \n",
        "    nb_autorise=[1,2,3,4,5,6,7,8,9] #création d'une liste avec les chiffres autorisés pour un emplacement donné\n",
        "    nb_interdit=[]\n",
        "\n",
        "    for elem in l[\"l%s\"% str(x)]: #on regarde les chiffres déjà présents sur la ligne\n",
        "      if(elem not in nb_interdit):\n",
        "        nb_interdit.append(elem) \n",
        "      \n",
        "\n",
        "    for elem_colonne in c[\"c\" + str(i)]: #pour tous les chiffres présents dans la colonne\n",
        "      if(elem_colonne not in nb_interdit):\n",
        "        nb_interdit.append(elem_colonne)\n",
        "      \n",
        "    for elem_interdit in nb_interdit:\n",
        "      if(elem_interdit in nb_autorise):\n",
        "        nb_autorise.remove(elem_interdit)\n",
        "\n",
        "    nb=random.choice(nb_autorise)\n",
        "    l[\"l%s\"% str(x)].append(nb)\n",
        "    c[\"c\" + str(i)].append(nb)\n",
        "    i+=1\n",
        "\n",
        "\n",
        "for values in l.items():\n",
        "  print(values)"
      ],
      "metadata": {
        "colab": {
          "base_uri": "https://localhost:8080/"
        },
        "id": "CMUQuJxnoX_6",
        "outputId": "7ad0dee9-44c2-4fc6-cf78-e8507ae5ad0c"
      },
      "execution_count": null,
      "outputs": [
        {
          "output_type": "stream",
          "name": "stdout",
          "text": [
            "('l1', [7, 6, 4, 5, 9, 2])\n",
            "('l2', [8, 3, 1, 4, 6, 5])\n",
            "('l3', [2, 9, 5, 8, 7, 4])\n",
            "('l4', [0, 0, 0, 2, 8, 1])\n",
            "('l5', [0, 0, 0, 7, 4, 9])\n",
            "('l6', [0, 0, 0, 6, 5, 3])\n",
            "('l7', [0, 0, 0, 0, 0, 0, 5, 8, 2])\n",
            "('l8', [0, 0, 0, 0, 0, 0, 4, 3, 7])\n",
            "('l9', [0, 0, 0, 0, 0, 0, 1, 9, 6])\n"
          ]
        }
      ]
    },
    {
      "cell_type": "markdown",
      "source": [
        "Continuité + tard le 25/04 (fonctionne pour C2 mais recopie du code pas d'itération)"
      ],
      "metadata": {
        "id": "xQdV1ndBVAeR"
      }
    },
    {
      "cell_type": "code",
      "source": [
        "import random\n",
        "\n",
        "l= dict() #un dict pour les lignes\n",
        "c= dict() #un dict pour les colonnes\n",
        "\n",
        "nb_autorise = [1,2,3,4,5,6,7,8,9]\n",
        "  \n",
        "for y in range(1,10):\n",
        "  c[\"c%s\"% str(y)]= [] #Création d'un liste par colonne (9)\n",
        "\n",
        "for x in range(1,10):\n",
        "  l[\"l%s\"% str(x)]= [] #création de 9 listes appelées l1, l2 etc...\n",
        "  y=1 #incrémentation numero colonne (le premier element de la ligne 1 \n",
        "    #est le premier element de la liste colonne 1)\n",
        "\n",
        "  #initialisation des trois grilles en diagonale \n",
        "  #on rempli les 3 premier élement des lignes 4 à 6 de 0\n",
        "  if(x==4):\n",
        "    nb_autorise=[1,2,3,4,5,6,7,8,9]\n",
        "\n",
        "  elif(x==7):\n",
        "    nb_autorise=[1,2,3,4,5,6,7,8,9]\n",
        "\n",
        "  if x>3 and x<7:\n",
        "    for zero in range(3):\n",
        "      zero = 0\n",
        "      l[\"l%s\"% str(x)].append(zero)\n",
        "    y=4\n",
        "  elif x>6:\n",
        "    for zero in range(6):\n",
        "      zero=0\n",
        "      l[\"l%s\"% str(x)].append(zero)\n",
        "      y=7\n",
        "\n",
        "  for nb in range(3):\n",
        "    nb_interdit=[]\n",
        "\n",
        "    for elem in l[\"l%s\"% str(x)]:\n",
        "      nb_interdit.append(elem)\n",
        "       #on suppr de la liste obligatoire les chiffres \n",
        "        #déjà présent dans le cube\n",
        "  \n",
        "\n",
        "    #chiffres autorisés sont l'inverse des interdits : \n",
        "    for elem_nb_interdit in nb_interdit:\n",
        "      if(elem_nb_interdit in nb_autorise):\n",
        "        nb_autorise.remove(elem_nb_interdit)\n",
        "\n",
        "    nb=random.choice(nb_autorise)\n",
        "\n",
        "    nb_autorise.remove(nb)\n",
        "    c[\"c\" + str(y)].append(nb)\n",
        "    l[\"l%s\"% str(x)].append(nb) #ajout de cet entier à la liste qui représente \n",
        "    #les lignes du sudoku\n",
        "\n",
        "    i+=1 #incrémentation \n",
        "\n",
        "\n",
        "for x in range(1,4): \n",
        "  i=4 #on commence à la 4e colonne\n",
        "\n",
        "  for elem_ligne in range(4,7): #pour les 3 prochains élements de la ligne \n",
        "    nb_autorise=[1,2,3,4,5,6,7,8,9] #création d'une liste avec les chiffres autorisés pour un emplacement donné\n",
        "    nb_interdit=[]\n",
        "\n",
        "    for elem in l[\"l%s\"% str(x)]: #on regarde les chiffres déjà présents sur la ligne\n",
        "      if(elem not in nb_interdit):\n",
        "        nb_interdit.append(elem) \n",
        "      \n",
        "\n",
        "    for elem_colonne in c[\"c\" + str(y)]: #pour tous les chiffres présents dans la colonne\n",
        "      if(elem_colonne not in nb_interdit):\n",
        "        nb_interdit.append(elem_colonne)\n",
        "      \n",
        "    for elem_interdit in nb_interdit:\n",
        "      if(elem_interdit in nb_autorise):\n",
        "        nb_autorise.remove(elem_interdit)\n",
        "\n",
        "    nb=random.choice(nb_autorise)\n",
        "    l[\"l%s\"% str(x)].append(nb)\n",
        "    c[\"c\" + str(i)].append(nb)\n",
        "    i+=1\n",
        "\n",
        "for values in l.items():\n",
        " print(values)"
      ],
      "metadata": {
        "colab": {
          "base_uri": "https://localhost:8080/",
          "height": 356
        },
        "id": "nSYbvI2hVDos",
        "outputId": "93ff2a1a-e1d5-49b5-9f6f-49953b6d3f55"
      },
      "execution_count": null,
      "outputs": [
        {
          "output_type": "error",
          "ename": "IndexError",
          "evalue": "ignored",
          "traceback": [
            "\u001b[0;31m---------------------------------------------------------------------------\u001b[0m",
            "\u001b[0;31mIndexError\u001b[0m                                Traceback (most recent call last)",
            "\u001b[0;32m<ipython-input-4-28ba97c1466c>\u001b[0m in \u001b[0;36m<module>\u001b[0;34m()\u001b[0m\n\u001b[1;32m     77\u001b[0m         \u001b[0mnb_autorise\u001b[0m\u001b[0;34m.\u001b[0m\u001b[0mremove\u001b[0m\u001b[0;34m(\u001b[0m\u001b[0melem_interdit\u001b[0m\u001b[0;34m)\u001b[0m\u001b[0;34m\u001b[0m\u001b[0;34m\u001b[0m\u001b[0m\n\u001b[1;32m     78\u001b[0m \u001b[0;34m\u001b[0m\u001b[0m\n\u001b[0;32m---> 79\u001b[0;31m     \u001b[0mnb\u001b[0m\u001b[0;34m=\u001b[0m\u001b[0mrandom\u001b[0m\u001b[0;34m.\u001b[0m\u001b[0mchoice\u001b[0m\u001b[0;34m(\u001b[0m\u001b[0mnb_autorise\u001b[0m\u001b[0;34m)\u001b[0m\u001b[0;34m\u001b[0m\u001b[0;34m\u001b[0m\u001b[0m\n\u001b[0m\u001b[1;32m     80\u001b[0m     \u001b[0ml\u001b[0m\u001b[0;34m[\u001b[0m\u001b[0;34m\"l%s\"\u001b[0m\u001b[0;34m%\u001b[0m \u001b[0mstr\u001b[0m\u001b[0;34m(\u001b[0m\u001b[0mx\u001b[0m\u001b[0;34m)\u001b[0m\u001b[0;34m]\u001b[0m\u001b[0;34m.\u001b[0m\u001b[0mappend\u001b[0m\u001b[0;34m(\u001b[0m\u001b[0mnb\u001b[0m\u001b[0;34m)\u001b[0m\u001b[0;34m\u001b[0m\u001b[0;34m\u001b[0m\u001b[0m\n\u001b[1;32m     81\u001b[0m     \u001b[0mc\u001b[0m\u001b[0;34m[\u001b[0m\u001b[0;34m\"c\"\u001b[0m \u001b[0;34m+\u001b[0m \u001b[0mstr\u001b[0m\u001b[0;34m(\u001b[0m\u001b[0mi\u001b[0m\u001b[0;34m)\u001b[0m\u001b[0;34m]\u001b[0m\u001b[0;34m.\u001b[0m\u001b[0mappend\u001b[0m\u001b[0;34m(\u001b[0m\u001b[0mnb\u001b[0m\u001b[0;34m)\u001b[0m\u001b[0;34m\u001b[0m\u001b[0;34m\u001b[0m\u001b[0m\n",
            "\u001b[0;32m/usr/lib/python3.7/random.py\u001b[0m in \u001b[0;36mchoice\u001b[0;34m(self, seq)\u001b[0m\n\u001b[1;32m    259\u001b[0m             \u001b[0mi\u001b[0m \u001b[0;34m=\u001b[0m \u001b[0mself\u001b[0m\u001b[0;34m.\u001b[0m\u001b[0m_randbelow\u001b[0m\u001b[0;34m(\u001b[0m\u001b[0mlen\u001b[0m\u001b[0;34m(\u001b[0m\u001b[0mseq\u001b[0m\u001b[0;34m)\u001b[0m\u001b[0;34m)\u001b[0m\u001b[0;34m\u001b[0m\u001b[0;34m\u001b[0m\u001b[0m\n\u001b[1;32m    260\u001b[0m         \u001b[0;32mexcept\u001b[0m \u001b[0mValueError\u001b[0m\u001b[0;34m:\u001b[0m\u001b[0;34m\u001b[0m\u001b[0;34m\u001b[0m\u001b[0m\n\u001b[0;32m--> 261\u001b[0;31m             \u001b[0;32mraise\u001b[0m \u001b[0mIndexError\u001b[0m\u001b[0;34m(\u001b[0m\u001b[0;34m'Cannot choose from an empty sequence'\u001b[0m\u001b[0;34m)\u001b[0m \u001b[0;32mfrom\u001b[0m \u001b[0;32mNone\u001b[0m\u001b[0;34m\u001b[0m\u001b[0;34m\u001b[0m\u001b[0m\n\u001b[0m\u001b[1;32m    262\u001b[0m         \u001b[0;32mreturn\u001b[0m \u001b[0mseq\u001b[0m\u001b[0;34m[\u001b[0m\u001b[0mi\u001b[0m\u001b[0;34m]\u001b[0m\u001b[0;34m\u001b[0m\u001b[0;34m\u001b[0m\u001b[0m\n\u001b[1;32m    263\u001b[0m \u001b[0;34m\u001b[0m\u001b[0m\n",
            "\u001b[0;31mIndexError\u001b[0m: Cannot choose from an empty sequence"
          ]
        }
      ]
    },
    {
      "cell_type": "markdown",
      "source": [
        "*Tentative* avec itération pour C2"
      ],
      "metadata": {
        "id": "o_pfLEeCWsSi"
      }
    },
    {
      "cell_type": "code",
      "source": [
        "#===============================================================================\n",
        "#PB : A PARTIR FIN 4e CUBE CHIFFRES VALID LISTE VIDE \n",
        "import random\n",
        "compteur = 1\n",
        "\n",
        "l= dict() #un dict pour les lignes\n",
        "c= dict() #un dict pour les colonnes\n",
        "\n",
        "for y in range(1,10):\n",
        "  c[\"c%s\"% str(y)]= []\n",
        "  #Création d'une liste par colonne (9)\n",
        "\n",
        "for x in range(1,10):\n",
        "  l[\"l%s\"% str(x)]= [] #création d'une liste par ligne (9)\n",
        "  \n",
        "x=1 #initialisation du numéro de liste correspondant à la ligne \n",
        "\n",
        "for prio_cube in range (1,9): #On id chaque cube de 3*3 avc variable \"prio_cube\"\n",
        "  if prio_cube>4:#SUPPRIMER SUITE AUX TESTS\n",
        "    pass #SUPPRIMER SUITE AUX TESTS\n",
        "\n",
        "  nb_cube=[] #liste des nb déjà présents dans le cube\n",
        "\n",
        "  for lignes in range(1,4): #Pour les 3 lignes du cube\n",
        "  \n",
        "    #Pour chaque début de ligne on assigne le n° de colonne à suivre\n",
        "    if prio_cube==1:\n",
        "      y=0 #colonne correspond à la liste c0\n",
        "\n",
        "    elif prio_cube ==2:\n",
        "      y=3 #colonne correspond à la liste c3\n",
        "\n",
        "    elif prio_cube ==3:\n",
        "      y=6 #colonne correspond à la liste c6\n",
        "\n",
        "    elif prio_cube==4 :  #si on est rendu à C2 prio 4\n",
        "      y=3\n",
        "      if lignes ==1:\n",
        "        x=1\n",
        "      \n",
        "    elif prio_cube==5: #C3 prio 5\n",
        "      y=6 #colonne 4\n",
        "      if lignes ==1:\n",
        "        x=1 #pour la première ligne on remet x à 1 (première ligne)\n",
        "\n",
        "    elif prio_cube ==6 : #cube 8 (prio 6)\n",
        "      y=3\n",
        "      if lignes ==1:\n",
        "        x=7 #on assigne le bon num de liste de ligne (ici l7)\n",
        "\n",
        "    elif prio_cube>6 and prio_cube<9: #C4 et C6 (prio 7 et 8)\n",
        "      y=0\n",
        "      if lignes==1:\n",
        "          x=4\n",
        "      if prio_cube ==8: #C4 et C6 (prio 8)\n",
        "          y=6\n",
        "#-----------------------AJOUT ZEROS------------------------------------\n",
        "#AJOUTER ZERO SUR PRIO 3\n",
        "    if x>3 and x<7: #on ajoute des zero pour les chiffres encore non présents sur les lignes \n",
        "      for zero in range(3):\n",
        "        zero = 0\n",
        "        l[\"l%s\"% str(x)].append(zero)\n",
        "    \n",
        "    elif x>6: #on ajoute des zero pour les chiffres encore non présents sur les lignes \n",
        "      for zero in range(6):\n",
        "        zero=0\n",
        "        l[\"l%s\"% str(x)].append(zero)\n",
        "#-----------------------AJOUT ZEROS------------------------------------\n",
        "\n",
        "#Une fois les n° de liste de colonnes et lignes bien placées :\n",
        "\n",
        "    for elem_ligne in range(3): #pour les 3 prochains élements de la ligne \n",
        "      y+=1 \n",
        "      nb_interdit=[] #à chaque nouvel élement on reprend avec une liste neuve\n",
        "      nb_autorise=[1,2,3,4,5,6,7,8,9] #A CHAQUE NVX LIGNE LA LISTE REINIT.\n",
        "\n",
        "      for elem in l[\"l%s\"% str(x)]: #on regarde les chiffres déjà présents sur la ligne\n",
        "        if(elem not in nb_interdit):\n",
        "            nb_interdit.append(elem) \n",
        "\n",
        "      for elem_colonne in c[\"c\" + str(y)]: #on ajoute tous les nb déjà présent\n",
        "        #dans la colonne dans la liste nb interdit de l'element\n",
        "        if(elem_colonne not in nb_interdit):\n",
        "          nb_interdit.append(elem_colonne)\n",
        "          \n",
        "      for elem_interdit in nb_interdit: \n",
        "        if(elem_interdit in nb_autorise):\n",
        "          nb_autorise.remove(elem_interdit) #on suppr de la liste de nb autor \n",
        "          #les nb qui sont dans nb_interdit\n",
        "\n",
        "      for elem_cube in nb_cube:\n",
        "        if elem_cube in nb_autorise:\n",
        "          nb_autorise.remove(elem_cube) #on supprime les nb déjà mis dans le cube \n",
        "\n",
        "#----------------------- CAS OU CONFLIT DE CHIFFRES  -------------------------\n",
        "      if not nb_autorise:\n",
        "        #recueillir les chiffres restants \n",
        "        garage = [1,2,3,4,5,6,7,8,9]\n",
        "        nb_restant=[]\n",
        "        #recueil des chiffres potentiellements à remplacer sur la ligne \n",
        "        for elem_garage in garage:\n",
        "          if elem_garage not in nb_cube:\n",
        "            nb_restant.append(elem_garage)\n",
        "\n",
        "          #En prenant chaque chiffre restants :\n",
        "          #On test si ce chiffre est sur la ligne \n",
        "          for elem_nb_restant in nb_restant:\n",
        "            check = True\n",
        "            index_liste_ligne = x\n",
        "            index_nb_pb = y+1 #colonne du dernier chiffre posé + 1 = l'index où l'on souhaite mettre notre prochain chiffre\n",
        "            while check == True:\n",
        "              if elem_nb_restant in l[\"l%s\"% str(index_liste_ligne)]: #si il est sur la ligne, on change de ligne jusqu'à trouver une où ne se trouve pas\n",
        "              #/\\ \"l0\"\n",
        "                index_liste_ligne-=1 #on prend la ligne du dessus \n",
        "\n",
        "              else:\n",
        "                check = False\n",
        "\n",
        "            #POUR LIGNE AVEC CHIFFRES DESSUS\n",
        "            longueur_liste = len(l[\"l%s\"% str(index_liste_ligne)]) #on connait le nb de chiffre sur la ligne\n",
        "            quot, reste = divmod(longueur_liste, 3)\n",
        "            chiffres_restants = 3-reste\n",
        "            index_colonne = longueur_liste-1\n",
        "\n",
        "            nb_deja_la=[]\n",
        "            for elem_ligne in range(reste):#pour chaque nb sur la ligne de ce cube\n",
        "              nb_deja_la.append(l[\"l%s\"% str(index_liste_ligne)][index_colonne])        \n",
        "\n",
        "              #test si pour ce chiffre restant à positionner on a une colonne qui convient\n",
        "              colonne_adequat = True \n",
        "              index_chiffre_a_remplacer = index_colonne\n",
        "              index_nouvelle_colonne = y #index de base colonne\n",
        "\n",
        "              while colonne_adequat == True:\n",
        "                if elem_nb_restant not in c[\"c\" + str(index_colonne)]: #si le chiffre restant ne se trouve pas sur la colonne \n",
        "                  chiffre_a_remplacer = l[\"l%s\"% str(index_liste_ligne)][index_chiffre_a_remplacer] #on va tester le chiffre qui se trouve sur cette ligne à cette colonne\n",
        "#/\\ list index out of range\n",
        "\n",
        "\n",
        "\n",
        "                  if chiffre_a_remplacer in l[\"l%s\"% str(x)]: #test si chiffre à remplacer sur la ligne de départ #ATTENTION CAS OU PLUSIEURS LIGNES PASSEES AVANT ARRET\n",
        "                    index_chiffre_a_remplacer -= 1 #on change de chiffre à remplacer avant de retester que la nvx colonne convient pr le nb à replacer (while)\n",
        "\n",
        "                  elif chiffre_a_remplacer in c[\"c\" + str(index_nouvelle_colonne)]:\n",
        "                      #ici le chiffre à remplacer n'est pas sur la ligne !!!\n",
        "                      #on décide alors de changer de colonne (+1) #ATTENTION CAS OU DEJA UN CHIFFRE ICI, ET CAS OU POSITION DERNIER CHIFFRE == SORTIE CUBE\n",
        "                      index_nouvelle_colonne +=1\n",
        "\n",
        "                  else: #on peut positionner le chiffre a remplacer à l'emplacemenet qui pose pb initialement\n",
        "                    l[\"l%s\"% str(x)][index_nb_pb] = chiffre_a_remplacer #on remplacer le chiffre problematique par le nouveau\n",
        "                    l[\"l%s\"% str(index_liste_ligne)][index_chiffre_a_remplacer]= elem_nb_restant #on met le chiffre pb à sa nouvelle place plus haut \n",
        "\n",
        "                    nb=elem_nb_restant #on prend soin d'assigner la variable nb pour les opérations de fin de code \n",
        "\n",
        "                    colonne_adequat = False #on met fin à la boucle \n",
        "                else:\n",
        "                  index_colonne-=1 #ATTENTION ERREUR EN CAS DE SORTIE DU CUBE(si nb a remplacer en position 1)\n",
        "\n",
        "\n",
        "      else: #si liste non vide :\n",
        "         nb=random.choice(nb_autorise)\n",
        "\n",
        "      nb_cube.append(nb)\n",
        "      compteur +=1\n",
        "      c[\"c\" + str(y)].append(nb)\n",
        "      l[\"l%s\"% str(x)].append(nb) #ajout de cet entier à la liste qui représente\n",
        "      if compteur>36: \n",
        "        for values in l.items():\n",
        "          print(values)\n",
        "    #les lignes du sudoku\n",
        "    x+=1\n",
        "\n",
        "for values in l.items():\n",
        " print(values)"
      ],
      "metadata": {
        "colab": {
          "base_uri": "https://localhost:8080/",
          "height": 1000
        },
        "id": "XfiZyVyGWk6l",
        "outputId": "a84ebbf1-ffe9-4970-f1fd-b499f7ce492c"
      },
      "execution_count": null,
      "outputs": [
        {
          "output_type": "stream",
          "name": "stdout",
          "text": [
            "('l1', [1, 9, 8, 3, 6, 2])\n",
            "('l2', [4, 2, 5, 1, 8, 9])\n",
            "('l3', [6, 3, 7, 4, 5, 5])\n",
            "('l4', [0, 0, 0, 8, 2, 4])\n",
            "('l5', [0, 0, 0, 9, 7, 5])\n",
            "('l6', [0, 0, 0, 6, 3, 1])\n",
            "('l7', [0, 0, 0, 0, 0, 0, 8, 9, 1])\n",
            "('l8', [0, 0, 0, 0, 0, 0, 6, 3, 7])\n",
            "('l9', [0, 0, 0, 0, 0, 0, 2, 4, 5])\n",
            "('l1', [1, 9, 8, 3, 6, 2, 7])\n",
            "('l2', [4, 2, 5, 1, 8, 9])\n",
            "('l3', [6, 3, 7, 4, 5, 5])\n",
            "('l4', [0, 0, 0, 8, 2, 4])\n",
            "('l5', [0, 0, 0, 9, 7, 5])\n",
            "('l6', [0, 0, 0, 6, 3, 1])\n",
            "('l7', [0, 0, 0, 0, 0, 0, 8, 9, 1])\n",
            "('l8', [0, 0, 0, 0, 0, 0, 6, 3, 7])\n",
            "('l9', [0, 0, 0, 0, 0, 0, 2, 4, 5])\n",
            "('l1', [1, 9, 8, 3, 6, 2, 7, 5])\n",
            "('l2', [4, 2, 5, 1, 8, 9])\n",
            "('l3', [6, 3, 7, 4, 5, 5])\n",
            "('l4', [0, 0, 0, 8, 2, 4])\n",
            "('l5', [0, 0, 0, 9, 7, 5])\n",
            "('l6', [0, 0, 0, 6, 3, 1])\n",
            "('l7', [0, 0, 0, 0, 0, 0, 8, 9, 1])\n",
            "('l8', [0, 0, 0, 0, 0, 0, 6, 3, 7])\n",
            "('l9', [0, 0, 0, 0, 0, 0, 2, 4, 5])\n",
            "('l1', [1, 9, 8, 3, 6, 2, 7, 5, 4])\n",
            "('l2', [4, 2, 5, 1, 8, 9])\n",
            "('l3', [6, 3, 7, 4, 5, 5])\n",
            "('l4', [0, 0, 0, 8, 2, 4])\n",
            "('l5', [0, 0, 0, 9, 7, 5])\n",
            "('l6', [0, 0, 0, 6, 3, 1])\n",
            "('l7', [0, 0, 0, 0, 0, 0, 8, 9, 1])\n",
            "('l8', [0, 0, 0, 0, 0, 0, 6, 3, 7])\n",
            "('l9', [0, 0, 0, 0, 0, 0, 2, 4, 5])\n",
            "('l1', [1, 9, 8, 3, 6, 2, 7, 5, 4])\n",
            "('l2', [4, 2, 5, 1, 8, 9, 3])\n",
            "('l3', [6, 3, 7, 4, 5, 5])\n",
            "('l4', [0, 0, 0, 8, 2, 4])\n",
            "('l5', [0, 0, 0, 9, 7, 5])\n",
            "('l6', [0, 0, 0, 6, 3, 1])\n",
            "('l7', [0, 0, 0, 0, 0, 0, 8, 9, 1])\n",
            "('l8', [0, 0, 0, 0, 0, 0, 6, 3, 7])\n",
            "('l9', [0, 0, 0, 0, 0, 0, 2, 4, 5])\n",
            "('l1', [1, 9, 8, 3, 6, 2, 7, 5, 4])\n",
            "('l2', [4, 2, 5, 1, 8, 9, 3, 6])\n",
            "('l3', [6, 3, 7, 4, 5, 5])\n",
            "('l4', [0, 0, 0, 8, 2, 4])\n",
            "('l5', [0, 0, 0, 9, 7, 5])\n",
            "('l6', [0, 0, 0, 6, 3, 1])\n",
            "('l7', [0, 0, 0, 0, 0, 0, 8, 9, 1])\n",
            "('l8', [0, 0, 0, 0, 0, 0, 6, 3, 7])\n",
            "('l9', [0, 0, 0, 0, 0, 0, 2, 4, 5])\n"
          ]
        },
        {
          "output_type": "error",
          "ename": "KeyError",
          "evalue": "ignored",
          "traceback": [
            "\u001b[0;31m---------------------------------------------------------------------------\u001b[0m",
            "\u001b[0;31mKeyError\u001b[0m                                  Traceback (most recent call last)",
            "\u001b[0;32m<ipython-input-20-3441e801b025>\u001b[0m in \u001b[0;36m<module>\u001b[0;34m()\u001b[0m\n\u001b[1;32m    110\u001b[0m             \u001b[0mindex_nb_pb\u001b[0m \u001b[0;34m=\u001b[0m \u001b[0my\u001b[0m\u001b[0;34m+\u001b[0m\u001b[0;36m1\u001b[0m \u001b[0;31m#colonne du dernier chiffre posé + 1 = l'index où l'on souhaite mettre notre prochain chiffre\u001b[0m\u001b[0;34m\u001b[0m\u001b[0;34m\u001b[0m\u001b[0m\n\u001b[1;32m    111\u001b[0m             \u001b[0;32mwhile\u001b[0m \u001b[0mcheck\u001b[0m \u001b[0;34m==\u001b[0m \u001b[0;32mTrue\u001b[0m\u001b[0;34m:\u001b[0m\u001b[0;34m\u001b[0m\u001b[0;34m\u001b[0m\u001b[0m\n\u001b[0;32m--> 112\u001b[0;31m               \u001b[0;32mif\u001b[0m \u001b[0melem_nb_restant\u001b[0m \u001b[0;32min\u001b[0m \u001b[0ml\u001b[0m\u001b[0;34m[\u001b[0m\u001b[0;34m\"l%s\"\u001b[0m\u001b[0;34m%\u001b[0m \u001b[0mstr\u001b[0m\u001b[0;34m(\u001b[0m\u001b[0mindex_liste_ligne\u001b[0m\u001b[0;34m)\u001b[0m\u001b[0;34m]\u001b[0m\u001b[0;34m:\u001b[0m \u001b[0;31m#si il est sur la ligne, on change de ligne jusqu'à trouver une où ne se trouve pas\u001b[0m\u001b[0;34m\u001b[0m\u001b[0;34m\u001b[0m\u001b[0m\n\u001b[0m\u001b[1;32m    113\u001b[0m               \u001b[0;31m#/\\ \"l0\"\u001b[0m\u001b[0;34m\u001b[0m\u001b[0;34m\u001b[0m\u001b[0;34m\u001b[0m\u001b[0m\n\u001b[1;32m    114\u001b[0m                 \u001b[0mindex_liste_ligne\u001b[0m\u001b[0;34m-=\u001b[0m\u001b[0;36m1\u001b[0m \u001b[0;31m#on prend la ligne du dessus\u001b[0m\u001b[0;34m\u001b[0m\u001b[0;34m\u001b[0m\u001b[0m\n",
            "\u001b[0;31mKeyError\u001b[0m: 'l0'"
          ]
        }
      ]
    }
  ]
}